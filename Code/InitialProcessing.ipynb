{
 "cells": [
  {
   "cell_type": "code",
   "execution_count": 1,
   "metadata": {},
   "outputs": [],
   "source": [
    "import pandas as pd"
   ]
  },
  {
   "cell_type": "code",
   "execution_count": null,
   "metadata": {},
   "outputs": [],
   "source": [
    "df= pd.read_csv(\"...\")"
   ]
  },
  {
   "cell_type": "code",
   "execution_count": 19,
   "metadata": {},
   "outputs": [
    {
     "data": {
      "text/plain": [
       "True     20014\n",
       "False     5555\n",
       "Name: crypto_description, dtype: int64"
      ]
     },
     "execution_count": 19,
     "metadata": {},
     "output_type": "execute_result"
    }
   ],
   "source": [
    "# finding descriptions of crypto users \n",
    "\n",
    "crypto_descp = [\"BTC\",\"Btc\",\"btc\",\"Bitcoin\",\"bitcoin\",\"BITCOIN\",\"$BTC\",\n",
    "\"DeFi\",\"defi\",\"DEFI\",\n",
    "\"Crypto\",\"CRYPTO\",\"crypto\",\"cryptocurrency\",\n",
    "\"blockchain\",\"Blockchain\",\n",
    "\"finance\",\"Finance\",\"financial\",\n",
    "\"Analyst\",\"analyst\",\n",
    "\"Trader\",\"trader\",\"trading\",\"trade\",\n",
    "\"NFT\",\"nft\",\"Nft\",\n",
    "\"web3\",\"Op\",\"op\",\"OP\"]\n",
    "\n",
    "# create a regex pattern that matches any of the words\n",
    "crypto_regex = \"|\".join(crypto_descp)\n",
    "\n",
    "# use the str.contains() method to check if the text column contains any of the words\n",
    "df[\"crypto_description\"] = df[\"author.description\"].str.contains(crypto_regex, case=False, na=False)\n",
    "df[\"crypto_description\"].value_counts()"
   ]
  },
  {
   "cell_type": "code",
   "execution_count": 20,
   "metadata": {},
   "outputs": [
    {
     "data": {
      "text/plain": [
       "0    #Crypto analyst - Swing Trader - Long term inv...\n",
       "1                    CEO @binance, holder of #bnb #btc\n",
       "3    Avalanche is the future-proof blockchain that'...\n",
       "4    Co-founder & CEO @cryptoquant_com | #Bitcoin a...\n",
       "6    #Bitcoin, Not a financial advisor, No paid gro...\n",
       "Name: author.description, dtype: object"
      ]
     },
     "execution_count": 20,
     "metadata": {},
     "output_type": "execute_result"
    }
   ],
   "source": [
    "# create datframe only with crypto users\n",
    "crypto_df = df[df['crypto_description'] == True]\n",
    "crypto_df[\"author.description\"].head()"
   ]
  },
  {
   "cell_type": "code",
   "execution_count": 21,
   "metadata": {},
   "outputs": [
    {
     "name": "stdout",
     "output_type": "stream",
     "text": [
      "We have 2876 unique crypto usesers in our dataset\n"
     ]
    }
   ],
   "source": [
    "#checl how many unique users\n",
    "\n",
    "column = crypto_df['author.username'].unique()\n",
    "uniq_aut = len(column)\n",
    "print(f'We have {uniq_aut} unique crypto usesers in our dataset')"
   ]
  }
 ],
 "metadata": {
  "kernelspec": {
   "display_name": "Python 3",
   "language": "python",
   "name": "python3"
  },
  "language_info": {
   "codemirror_mode": {
    "name": "ipython",
    "version": 3
   },
   "file_extension": ".py",
   "mimetype": "text/x-python",
   "name": "python",
   "nbconvert_exporter": "python",
   "pygments_lexer": "ipython3",
   "version": "3.10.0"
  },
  "orig_nbformat": 4,
  "vscode": {
   "interpreter": {
    "hash": "aee8b7b246df8f9039afb4144a1f6fd8d2ca17a180786b69acc140d282b71a49"
   }
  }
 },
 "nbformat": 4,
 "nbformat_minor": 2
}
